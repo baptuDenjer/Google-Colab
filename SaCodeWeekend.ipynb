{
  "nbformat": 4,
  "nbformat_minor": 0,
  "metadata": {
    "colab": {
      "provenance": [],
      "toc_visible": true,
      "authorship_tag": "ABX9TyM1v1V8VY+HvSli9Pp8dm/4",
      "include_colab_link": true
    },
    "kernelspec": {
      "name": "python3",
      "display_name": "Python 3"
    },
    "language_info": {
      "name": "python"
    }
  },
  "cells": [
    {
      "cell_type": "markdown",
      "metadata": {
        "id": "view-in-github",
        "colab_type": "text"
      },
      "source": [
        "<a href=\"https://colab.research.google.com/github/baptuDenjer/Google-Colab/blob/main/SaCodeWeekend.ipynb\" target=\"_parent\"><img src=\"https://colab.research.google.com/assets/colab-badge.svg\" alt=\"Open In Colab\"/></a>"
      ]
    },
    {
      "cell_type": "markdown",
      "source": [
        "#Pengenalan Bahasa Python dengan Google Colab"
      ],
      "metadata": {
        "id": "JsmpQrLQ9Qjm"
      }
    },
    {
      "cell_type": "markdown",
      "source": [
        "# Halo Dunia"
      ],
      "metadata": {
        "id": "k3FVwWz39ast"
      }
    },
    {
      "cell_type": "code",
      "source": [
        "print(\"Halo Dunia!\")"
      ],
      "metadata": {
        "colab": {
          "base_uri": "https://localhost:8080/"
        },
        "id": "afZLKrrn9ZeH",
        "outputId": "379ce84f-909f-4c6f-e351-599b13ba8b0c"
      },
      "execution_count": 10,
      "outputs": [
        {
          "output_type": "stream",
          "name": "stdout",
          "text": [
            "Halo Dunia!\n"
          ]
        }
      ]
    },
    {
      "cell_type": "markdown",
      "source": [
        "#Comment di Python"
      ],
      "metadata": {
        "id": "90twtGZ3937q"
      }
    },
    {
      "cell_type": "code",
      "source": [
        "#print(\"ini tidak di run\")\n",
        "print(\"Ini di run\")"
      ],
      "metadata": {
        "colab": {
          "base_uri": "https://localhost:8080/"
        },
        "id": "xP5QQF5R9-9f",
        "outputId": "6b2f95d5-ffce-4d85-d314-3939de812722"
      },
      "execution_count": 12,
      "outputs": [
        {
          "output_type": "stream",
          "name": "stdout",
          "text": [
            "Ini di run\n"
          ]
        }
      ]
    },
    {
      "cell_type": "markdown",
      "source": [
        "# Comment lebih dari satu"
      ],
      "metadata": {
        "id": "xKOAE7wy-Ju2"
      }
    },
    {
      "cell_type": "code",
      "source": [
        "\"\"\"\n",
        "print(\"wadidaw\")\n",
        "print(\"Wadidaw\")\n",
        "\n",
        "Halo Semua!\n",
        "\"\"\"\n",
        "print(\"SaCodes Weekend!\")"
      ],
      "metadata": {
        "colab": {
          "base_uri": "https://localhost:8080/"
        },
        "id": "Okh2FQbv-TVo",
        "outputId": "5e5c2574-1ea7-485d-ad08-e9e9d8e2c89c"
      },
      "execution_count": 14,
      "outputs": [
        {
          "output_type": "stream",
          "name": "stdout",
          "text": [
            "SaCodes Weekend!\n"
          ]
        }
      ]
    },
    {
      "cell_type": "markdown",
      "source": [
        "# Buat Variabel"
      ],
      "metadata": {
        "id": "jPWxAFhv-FPS"
      }
    },
    {
      "cell_type": "code",
      "source": [
        "n = 10\n",
        "nama = \"BaptuDenjer\"\n",
        "print(n)\n",
        "print(nama)"
      ],
      "metadata": {
        "colab": {
          "base_uri": "https://localhost:8080/"
        },
        "id": "4PN50dgX-mM3",
        "outputId": "95a211e4-7fb2-4d5d-ca91-f8827965529a"
      },
      "execution_count": 18,
      "outputs": [
        {
          "output_type": "stream",
          "name": "stdout",
          "text": [
            "10\n",
            "BaptuDenjer\n"
          ]
        }
      ]
    },
    {
      "cell_type": "markdown",
      "source": [
        "# Casting Variabel"
      ],
      "metadata": {
        "id": "eURk8ps_-2WC"
      }
    },
    {
      "cell_type": "code",
      "source": [
        "ns = str(10)\n",
        "ni = int(10)\n",
        "nf = float(10)\n",
        "\n",
        "print(ns)\n",
        "print(ni)\n",
        "print(nf)"
      ],
      "metadata": {
        "colab": {
          "base_uri": "https://localhost:8080/"
        },
        "id": "c5ckhMZ3-6w3",
        "outputId": "4d2d2221-b5b7-4ec1-eeee-9a3cd506b084"
      },
      "execution_count": 50,
      "outputs": [
        {
          "output_type": "stream",
          "name": "stdout",
          "text": [
            "10\n",
            "10\n",
            "10.0\n"
          ]
        }
      ]
    },
    {
      "cell_type": "markdown",
      "source": [
        "# If-Statement"
      ],
      "metadata": {
        "id": "LAsV10fxDYR6"
      }
    },
    {
      "cell_type": "code",
      "source": [
        "a,b = 10,20\n",
        "if (b < a):\n",
        "  print(\"b kurang a\")\n",
        "else:\n",
        "  print(\"b lebih dari a\")"
      ],
      "metadata": {
        "colab": {
          "base_uri": "https://localhost:8080/"
        },
        "id": "_Kna0joyDbhz",
        "outputId": "112e26e9-3b9b-495d-c067-19c2900452bb"
      },
      "execution_count": 51,
      "outputs": [
        {
          "output_type": "stream",
          "name": "stdout",
          "text": [
            "b lebih dari a\n"
          ]
        }
      ]
    },
    {
      "cell_type": "markdown",
      "source": [
        "#Data Visualization"
      ],
      "metadata": {
        "id": "jAjg2YM-D5fu"
      }
    },
    {
      "cell_type": "code",
      "source": [
        "import matplotlib.pyplot as plt\n",
        "\n"
      ],
      "metadata": {
        "id": "dR_OWInfD9kj"
      },
      "execution_count": null,
      "outputs": []
    }
  ]
}